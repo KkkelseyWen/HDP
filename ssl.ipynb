{
 "cells": [
  {
   "cell_type": "code",
   "id": "initial_id",
   "metadata": {
    "collapsed": true,
    "ExecuteTime": {
     "end_time": "2024-04-23T20:47:47.787200Z",
     "start_time": "2024-04-23T20:47:47.784806Z"
    }
   },
   "source": [
    "import numpy as np\n",
    "import matplotlib.pyplot as plt\n",
    "from keras.datasets import mnist\n",
    "from scipy.signal import convolve2d\n",
    "from sklearn.decomposition import PCA\n",
    "from sklearn.neighbors import NearestNeighbors\n",
    "from scipy.sparse import  coo_matrix"
   ],
   "outputs": [],
   "execution_count": 16
  },
  {
   "metadata": {
    "ExecuteTime": {
     "end_time": "2024-04-23T20:15:44.178159Z",
     "start_time": "2024-04-23T20:15:44.038091Z"
    }
   },
   "cell_type": "code",
   "source": [
    "(data, label), _ = mnist.load_data()\n",
    "print('Shape of data:', data.shape)\n",
    "print('Number of labels:', len(label))"
   ],
   "id": "7dfd7528ef28415b",
   "outputs": [
    {
     "name": "stdout",
     "output_type": "stream",
     "text": [
      "Shape of data: (60000, 28, 28)\n",
      "Number of labels: 60000\n"
     ]
    }
   ],
   "execution_count": 2
  },
  {
   "metadata": {},
   "cell_type": "markdown",
   "source": "# preprocessing",
   "id": "1d0302d70b6b7de6"
  },
  {
   "metadata": {
    "ExecuteTime": {
     "end_time": "2024-04-23T20:16:14.515807Z",
     "start_time": "2024-04-23T20:16:12.439381Z"
    }
   },
   "cell_type": "code",
   "source": [
    "def smooth(img, filter_size=3, num_iter=2):\n",
    "    average_filter = np.ones((filter_size, filter_size)) / (filter_size ** 2)\n",
    "\n",
    "    for i in range(num_iter):\n",
    "        smoothed_img = convolve2d(img, average_filter, mode='same')\n",
    "\n",
    "    return smoothed_img\n",
    "\n",
    "data_smoothed = np.array([smooth(img) for img in data])"
   ],
   "id": "cf11c2b4e400b041",
   "outputs": [],
   "execution_count": 3
  },
  {
   "metadata": {},
   "cell_type": "markdown",
   "source": "# top 50 pca",
   "id": "b3a65b8e9968eebe"
  },
  {
   "metadata": {
    "ExecuteTime": {
     "end_time": "2024-04-23T20:16:46.096843Z",
     "start_time": "2024-04-23T20:16:40.610943Z"
    }
   },
   "cell_type": "code",
   "source": [
    "data_flatten = data_smoothed.reshape(data_smoothed.shape[0], -1)\n",
    "\n",
    "pca = PCA(n_components=50)\n",
    "data_pca = pca.fit_transform(data_flatten)\n",
    "\n",
    "data_pca.shape"
   ],
   "id": "e506160a041b1e5b",
   "outputs": [
    {
     "data": {
      "text/plain": [
       "(60000, 50)"
      ]
     },
     "execution_count": 4,
     "metadata": {},
     "output_type": "execute_result"
    }
   ],
   "execution_count": 4
  },
  {
   "metadata": {},
   "cell_type": "markdown",
   "source": "# graph construction",
   "id": "7e66692cda2a01b5"
  },
  {
   "metadata": {
    "ExecuteTime": {
     "end_time": "2024-04-23T20:47:49.959581Z",
     "start_time": "2024-04-23T20:47:49.953245Z"
    }
   },
   "cell_type": "code",
   "source": [
    "def graph_construction(X, k):\n",
    "    num_points = X.shape[0]\n",
    "    W = np.zeros((num_points, num_points))\n",
    "    \n",
    "    nearest_neighbors = NearestNeighbors(n_neighbors= k+1).fit(X)\n",
    "    # exclude the point itself\n",
    "    neighbors = nearest_neighbors.kneighbors(X, n_neighbors= k+1, return_distance=False)[:, 1:]\n",
    "    for i in range(num_points):\n",
    "        W[i, neighbors[i]] = 1\n",
    "    W = coo_matrix(W)\n",
    "    W = W + W.T\n",
    "    W = W.sign()\n",
    "\n",
    "    return W"
   ],
   "id": "46b3dcabdf6f7ba1",
   "outputs": [],
   "execution_count": 17
  },
  {
   "metadata": {
    "ExecuteTime": {
     "end_time": "2024-04-23T20:49:13.582305Z",
     "start_time": "2024-04-23T20:49:13.579227Z"
    }
   },
   "cell_type": "code",
   "source": "",
   "id": "3fa1456d2d315a29",
   "outputs": [],
   "execution_count": 18
  },
  {
   "metadata": {},
   "cell_type": "code",
   "outputs": [],
   "execution_count": null,
   "source": "",
   "id": "119444c7eb4c4d34"
  }
 ],
 "metadata": {
  "kernelspec": {
   "display_name": "Python 3",
   "language": "python",
   "name": "python3"
  },
  "language_info": {
   "codemirror_mode": {
    "name": "ipython",
    "version": 2
   },
   "file_extension": ".py",
   "mimetype": "text/x-python",
   "name": "python",
   "nbconvert_exporter": "python",
   "pygments_lexer": "ipython2",
   "version": "2.7.6"
  }
 },
 "nbformat": 4,
 "nbformat_minor": 5
}
